{
 "cells": [
  {
   "cell_type": "code",
   "execution_count": null,
   "id": "4ab3535e",
   "metadata": {},
   "outputs": [],
   "source": [
    "import pandas as pd\n",
    "import seaborn as sns\n",
    "import matplotlib.pyplot as plt\n",
    "import pandas as pd\n",
    "import numpy as np\n",
    "import os"
   ]
  },
  {
   "cell_type": "code",
   "execution_count": null,
   "id": "47a11761",
   "metadata": {},
   "outputs": [],
   "source": [
    "results_dir = \"../results\"\n",
    "all_csv = sorted([f for f in os.listdir(results_dir) if f.endswith(\".csv\")])"
   ]
  },
  {
   "cell_type": "code",
   "execution_count": null,
   "id": "124b169d",
   "metadata": {},
   "outputs": [],
   "source": [
    "path = f\"{results_dir}/{all_csv[-1]}\"  # latest"
   ]
  },
  {
   "cell_type": "code",
   "execution_count": null,
   "id": "4b9ea97f",
   "metadata": {},
   "outputs": [],
   "source": [
    "df = pd.read_csv(path, sep=\";\", comment=\"#\")"
   ]
  },
  {
   "cell_type": "code",
   "execution_count": null,
   "id": "d6c555a7",
   "metadata": {},
   "outputs": [],
   "source": [
    "df[\"scheduled\"] = df[\"deadline_misses\"] == 0"
   ]
  },
  {
   "cell_type": "code",
   "execution_count": null,
   "id": "747f226e",
   "metadata": {},
   "outputs": [],
   "source": [
    "df.head()"
   ]
  },
  {
   "cell_type": "code",
   "execution_count": null,
   "id": "38b5e2bd",
   "metadata": {},
   "outputs": [],
   "source": [
    "# Define bin edges and labels\n",
    "bin_edges = np.arange(0, 1.1, 0.1)  # [0.0, 0.05, 0.10, ..., 1.0]\n",
    "bin_labels = (bin_edges[:-1] + bin_edges[1:]) / 2  # label by bin centers\n",
    "\n",
    "# Bin the utilization\n",
    "df[\"util_bin\"] = pd.cut(\n",
    "    df[\"task_system_utilization\"],\n",
    "    bins=bin_edges,\n",
    "    labels=bin_labels,\n",
    "    include_lowest=True\n",
    ")\n",
    "\n",
    "# Group and count how many tasksets were scheduled per (bin, scheduler)\n",
    "schedulability = (\n",
    "    df[df[\"scheduled\"] == True]\n",
    "    .groupby([\"util_bin\", \"scheduler\"])\n",
    "    .size()\n",
    "    .reset_index(name=\"scheduled_count\")\n",
    ")\n",
    "\n",
    "# Also compute total number of tasksets per bin (for horizontal reference line)\n",
    "total_per_bin = df.groupby(\"util_bin\").size()\n",
    "\n",
    "# Plot\n",
    "plt.figure(figsize=(10, 6))\n",
    "sns.lineplot(\n",
    "    data=schedulability,\n",
    "    x=\"util_bin\",\n",
    "    y=\"scheduled_count\",\n",
    "    hue=\"scheduler\",\n",
    "    marker=\"o\"\n",
    ")\n",
    "\n",
    "# Add horizontal lines showing the total number of tasksets per bin\n",
    "for bin_center, total in total_per_bin.items():\n",
    "    plt.axhline(y=total, color=\"gray\", linestyle=\"--\", linewidth=0.5)\n",
    "\n",
    "# Force y-axis to start at 0\n",
    "plt.ylim(bottom=0)\n",
    "\n",
    "plt.title(\"Schedulability vs. Task System Utilization (Binned)\")\n",
    "plt.xlabel(\"Task System Utilization (Binned)\")\n",
    "plt.ylabel(\"# Scheduled Tasksets\")\n",
    "plt.grid(True)\n",
    "plt.tight_layout()\n",
    "plt.show()\n"
   ]
  },
  {
   "cell_type": "code",
   "execution_count": null,
   "id": "5ffe9efc",
   "metadata": {},
   "outputs": [],
   "source": [
    "df"
   ]
  }
 ],
 "metadata": {
  "kernelspec": {
   "display_name": "Python 3 (ipykernel)",
   "language": "python",
   "name": "python3"
  },
  "language_info": {
   "codemirror_mode": {
    "name": "ipython",
    "version": 3
   },
   "file_extension": ".py",
   "mimetype": "text/x-python",
   "name": "python",
   "nbconvert_exporter": "python",
   "pygments_lexer": "ipython3",
   "version": "3.10.12"
  }
 },
 "nbformat": 4,
 "nbformat_minor": 5
}
